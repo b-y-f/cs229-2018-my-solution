{
 "cells": [
  {
   "cell_type": "markdown",
   "metadata": {},
   "source": [
    "The theme of this problem set is just to prove the kernel is:\n",
    "\n",
    "1. Positive semi-definate: $\\vec{x}^T K \\vec{x} \\geq 0$,\n",
    "2. symmetric\n"
   ]
  },
  {
   "cell_type": "markdown",
   "metadata": {},
   "source": [
    "### (a)\n",
    "\n",
    "Since we know that $K_1$ and $K_2$ are already kernels, we know that\n",
    "\n",
    "$$K_1 \\geq 0 \\text{ and } K_2 \\geq 0 \\text{, thus }K_1 + K_2 \\geq 0.$$\n"
   ]
  },
  {
   "cell_type": "markdown",
   "metadata": {},
   "source": [
    "### (b)\n",
    "\n",
    "Might not, don't know which one is larger..\n"
   ]
  },
  {
   "cell_type": "markdown",
   "metadata": {},
   "source": [
    "### (c)\n",
    "\n",
    "Yes, because $a$ is positive:\n",
    "\n",
    "$$ a(x^T K_1 x) \\geq 0 $$\n"
   ]
  },
  {
   "cell_type": "markdown",
   "metadata": {},
   "source": [
    "### (d)\n",
    "\n",
    "No, we know from (c), $-aK_1$ will be negative.\n"
   ]
  },
  {
   "cell_type": "markdown",
   "metadata": {},
   "source": [
    "### (e)\n",
    "\n",
    "Let $x \\in \\mathbb{R}^n$ be any vector. Then we have:\n",
    "\n",
    "$$\n",
    "\\begin{align*}\n",
    "x^T (K_1 * K_2) x &= \\sum_{i=1}^n \\sum_{j=1}^n x_i x_j (K_1 * K_2)(x_i, x_j) \\\\\\\\\n",
    "\n",
    "&= \\sum_{i=1}^n \\sum_{j=1}^n x_i x_j K_1(x_i, x_j) K_2(x_i, x_j) \\\\\\\\\n",
    "\n",
    "&= \\left(\\sum_{i=1}^n \\sum_{j=1}^n x_i x_j K_1(x_i, x_j)\\right) \\left(\\sum_{i=1}^n \\sum_{j=1}^n x_i x_j K_2(x_i, x_j)\\right) \\\\\\\\\n",
    "\n",
    "&= (x^T K_1 x)(x^T K_2 x)\n",
    "\\end{align*}\n",
    "$$\n",
    "\n",
    "Since both $K_1$ and $K_2$ are PSD kernels, we have $x^T K_1 x \\geq 0$ and $x^T K_2 x \\geq 0$.\n",
    "\n",
    "Therefore, $(x^T K_1 x)(x^T K_2 x) \\geq 0$, which implies that the product kernel $K(x,z) = K_1(x,z) * K_2(x,z)$ is also PSD.\n"
   ]
  },
  {
   "cell_type": "markdown",
   "metadata": {},
   "source": [
    "### (f)\n",
    "\n",
    "Yes, its kernel,\n",
    "\n",
    "Let $x \\in \\mathbb{R}^n$ be any vector. Then we have:\n",
    "\n",
    "$$\n",
    "\\begin{align*}\n",
    "K(x,z) &= \\sum_i^n \\sum_j^n x_i K_{ij} x_j \\\\\n",
    "\n",
    "&= \\sum_i^n \\sum_j^n x_i f(z_i) f(z_j) x_j \\\\\n",
    "\n",
    "&= \\left(\\sum_i^n x_i f(z_i)\\right)^2 \\geq 0\n",
    "\\end{align*}\n",
    "$$\n"
   ]
  },
  {
   "cell_type": "markdown",
   "metadata": {},
   "source": [
    "### (g)\n",
    "\n",
    "Yes, since $K_3$ is already a kernel thus $K$ also is a kernel.\n"
   ]
  },
  {
   "cell_type": "markdown",
   "metadata": {},
   "source": [
    "### (h)\n",
    "\n",
    "Definetly Yes.\n",
    "\n",
    "A polynomial $p(x)$ with positive coefficients is a polynomial where all the coefficients of the terms are positive numbers. For example, $p(x) = 3x^2 + 2x + 1$ is a polynomial with positive coefficients, while $p(x) = -x^2 + 2x + 1$ is not, because the coefficient of the $x^2$ term is negative.\n",
    "\n",
    "The expression $\\sum_{i=1}^n a_i b ^i$ is a compact way of writing a polynomial where $a_i$ are the coefficients and $b$ is the variable. The index $i$ in the sum ranges from 1 to $n$, which are the powers of $b$ in each term of the polynomial.\n",
    "\n",
    "For example, if $n=3$, $a_1=2$, $a_2=3$, and $a_3=4$, the polynomial would be $2b + 3b^2 + 4b^3$.\n",
    "\n",
    "This notation is useful because it allows us to write polynomials of any degree in a concise way. It also makes it easier to perform operations on polynomials, such as differentiation and integration.\n",
    "\n",
    "Thus,\n",
    "\n",
    "$$\n",
    "\\begin{align*}\n",
    "K(x,z) &= \\sum_{i=1}^n a_i K_1^i \\\\\\\\\n",
    "\n",
    "&\\text{since all  } a_i \\gt 0 \\text{ and } K_1 \\geq 0 \\text{  then:} \\\\\\\\\n",
    "\n",
    "&= \\sum_{i=1}^n a_i K_1^i \\geq 0\n",
    "\\end{align*}\n",
    "$$\n"
   ]
  },
  {
   "cell_type": "markdown",
   "metadata": {},
   "source": []
  }
 ],
 "metadata": {
  "kernelspec": {
   "display_name": "lake-influx",
   "language": "python",
   "name": "python3"
  },
  "language_info": {
   "codemirror_mode": {
    "name": "ipython",
    "version": 3
   },
   "file_extension": ".py",
   "mimetype": "text/x-python",
   "name": "python",
   "nbconvert_exporter": "python",
   "pygments_lexer": "ipython3",
   "version": "3.10.10"
  },
  "orig_nbformat": 4
 },
 "nbformat": 4,
 "nbformat_minor": 2
}
