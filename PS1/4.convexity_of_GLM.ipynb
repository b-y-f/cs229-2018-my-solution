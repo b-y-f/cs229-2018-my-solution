{
 "cells": [
  {
   "attachments": {},
   "cell_type": "markdown",
   "metadata": {},
   "source": [
    "## (a)\n",
    "\n",
    "Because _\"For sake of conv...\"_, the log partition function is defined as:\n",
    "\n",
    "$$a(\\eta) = \\log \\int b(y) \\exp[\\eta \\cdot y] dy$$\n",
    "\n",
    "\n",
    "\n",
    "Let's take the derivative of the log partition function with respect to η:\n",
    "\n",
    "$$\\frac{\\partial}{\\partial \\eta} a(\\eta) = \\frac{\\partial}{\\partial \\eta} \\log \\int b(y) \\exp[\\eta \\cdot y] dy$$\n",
    "\n",
    "By applying the chain rule, we get:\n",
    "\n",
    "$$\\frac{\\partial}{\\partial \\eta} a(\\eta) = \\frac{1}{\\int b(y) \\exp[\\eta \\cdot y] dy} \\frac{\\partial}{\\partial \\eta} \\int b(y) \\exp[\\eta \\cdot y] dy$$\n",
    "\n",
    "The derivative of the integral can be calculated by taking the derivative inside the integral sign:\n",
    "\n",
    "$$\\frac{\\partial}{\\partial \\eta} a(\\eta) = \\frac{1}{\\int b(y) \\exp[\\eta \\cdot y] dy} \\int b(y)  y  \\exp[\\eta \\cdot y] dy$$\n",
    "\n",
    "The integral in the denominator is just the definition of the partition function, so we can simplify it as:\n",
    "\n",
    "$$\\begin{align*}\n",
    "\\frac{\\partial}{\\partial \\eta} a(\\eta) &= \\frac{\\int b(y) y \\exp[\\eta \\cdot y] dy}{\\int b(y) \\exp[\\eta \\cdot y] dy} \\\\\\\\\n",
    "&= \\frac{\\int b(y) y \\exp[\\eta \\cdot y] dy}{\\exp(a(\\eta))} \\\\\\\\\n",
    "&= \\int b(y) \\exp[\\eta \\cdot y - a(\\eta)] y dy \\\\\\\\\n",
    "&= \\int p(y; \\eta) y dy \n",
    "\\end{align*}$$\n",
    "\n",
    "This is equivalent to:\n",
    "\n",
    "$$\\frac{\\partial}{\\partial \\eta} a(\\eta) = E(Y | \\eta) = E(Y | X;\\theta)$$\n",
    "\n",
    "\n",
    "\n"
   ]
  },
  {
   "attachments": {},
   "cell_type": "markdown",
   "metadata": {},
   "source": [
    "## (b)\n",
    "\n",
    "$$\\begin{align*}\n",
    "\\frac{\\partial^2 a(\\eta)}{\\partial \\eta^2} &= \\frac{\\partial a(\\eta)}{\\partial \\eta} \\int b(y) \\exp[\\eta \\cdot y - a(\\eta)] y dy \\\\\\\\\n",
    "&= \\int b(y) \\exp[\\eta \\cdot y - a(\\eta)] (y - \\frac{\\partial a(\\eta)}{\\partial \\eta})y dy \\\\\\\\\n",
    "&= \\int p(y | \\eta) (y - a'(\\eta))y dy \\\\\\\\\n",
    "&= \\int p(y|\\eta) y^2 dy - a'(\\eta) \\int p(y|\\eta) y dy \\\\\\\\\n",
    "&= E[y^2] - E^2[y] = Var(Y | \\eta) = Var(Y | X; \\theta)\n",
    "\\end{align*}$$\n",
    "\n"
   ]
  },
  {
   "attachments": {},
   "cell_type": "markdown",
   "metadata": {},
   "source": [
    "## (c)"
   ]
  }
 ],
 "metadata": {
  "language_info": {
   "name": "python"
  },
  "orig_nbformat": 4
 },
 "nbformat": 4,
 "nbformat_minor": 2
}
